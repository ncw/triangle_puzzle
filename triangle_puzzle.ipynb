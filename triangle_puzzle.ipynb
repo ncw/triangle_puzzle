{
 "cells": [
  {
   "cell_type": "markdown",
   "id": "86f43edf-6904-493c-895b-ae81f553fd77",
   "metadata": {},
   "source": [
    "# Triangle puzzle\n",
    "\n",
    "We have a triangle with corners A, B C which we will arbitrarily put at the co-ordinates A=(0,0), B=(bx,0), C=(cx, cy)\n",
    "\n",
    "Some way along AB is a point D with co-ordinates (dx, dy)\n",
    "\n",
    "Some way along BC is a point E with co-ordinates (ex, ey)\n",
    "\n",
    "BD and AE meet at the point F which has co-ordinates (fx, fy)\n",
    "\n",
    "We are given the following triangle areas\n",
    "\n",
    "- AFD = 3\n",
    "- EFB = 7\n",
    "- ABF = 7\n",
    "\n",
    "We would like to know the area of ABC\n",
    "\n",
    "This puzzle is supposed to be solved with geometry, but here we are going to get the Cartesian hammer out and smash it like that :-)\n",
    "\n",
    "Firstly note that we know the areas of\n",
    "\n",
    "- AEB = ABF + EFB = 7 + 7 = 14\n",
    "- ADB = ABF + AFD = 7 + 1 = 10\n",
    "\n",
    "We can find out where D and E are in terms of F by intersecting AF with BC and BF with AC.\n",
    "\n",
    "This then leaves us 5 unknowns bx, cx, cy, fx, fy\n",
    "\n",
    "We also know the area of 5 triangles which we can express in terms of the 5 unknowns.\n",
    "\n",
    "5 equations and 5 unknowns means a solvable system.\n",
    "\n"
   ]
  },
  {
   "cell_type": "markdown",
   "id": "f4b38097-4d8c-456c-b27f-7e839cca77b6",
   "metadata": {},
   "source": [
    "![Diagram](triangle_puzzle.svg)"
   ]
  },
  {
   "cell_type": "markdown",
   "id": "66eb797c-3af8-4da1-9607-93b166dbe612",
   "metadata": {},
   "source": [
    "First find (dx, dy)\n",
    "\n",
    "Equation of AC and BF are as follows\n",
    "\n"
   ]
  },
  {
   "cell_type": "code",
   "execution_count": 1,
   "id": "0e0a0fa4-2d9c-49f5-8912-c99f9dbd14cd",
   "metadata": {},
   "outputs": [
    {
     "data": {
      "text/latex": [
       "$\\displaystyle y = f_{y} - \\frac{f_{y} \\left(- f_{x} + x\\right)}{b_{x} - f_{x}}$"
      ],
      "text/plain": [
       "Eq(y, f_y - f_y*(-f_x + x)/(b_x - f_x))"
      ]
     },
     "execution_count": 1,
     "metadata": {},
     "output_type": "execute_result"
    }
   ],
   "source": [
    "from sympy import *\n",
    "from IPython.core.interactiveshell import InteractiveShell\n",
    "InteractiveShell.ast_node_interactivity = 'all'\n",
    "\n",
    "# Define variables\n",
    "x, y, b_x, c_x, c_y, d_x_sym, d_y_sym, e_x_sym, e_y_sym, f_x, f_y = symbols('x y b_x c_x c_y d_x d_y e_x e_y f_x f_y')\n",
    "\n",
    "# First equation: line through (0,0) and (cx, cy)\n",
    "eq1 = Eq(y, (c_y/c_x) * x)\n",
    "\n",
    "# Second equation: line through (fx, fy) and (bx, 0)\n",
    "slope = -f_y / (b_x - f_x)\n",
    "eq2 = Eq(y, slope * (x - f_x) + f_y)\n",
    "\n",
    "# Display the equations\n",
    "eq1\n",
    "eq2"
   ]
  },
  {
   "cell_type": "code",
   "execution_count": 2,
   "id": "87b37dbd-a1f8-467d-82d2-0c855de0e0f0",
   "metadata": {},
   "outputs": [
    {
     "data": {
      "text/latex": [
       "$\\displaystyle d_{x} = \\frac{b_{x} c_{x} f_{y}}{b_{x} c_{y} + c_{x} f_{y} - c_{y} f_{x}}$"
      ],
      "text/plain": [
       "Eq(d_x, b_x*c_x*f_y/(b_x*c_y + c_x*f_y - c_y*f_x))"
      ]
     },
     "execution_count": 2,
     "metadata": {},
     "output_type": "execute_result"
    },
    {
     "data": {
      "text/latex": [
       "$\\displaystyle d_{y} = \\frac{b_{x} c_{y} f_{y}}{b_{x} c_{y} + c_{x} f_{y} - c_{y} f_{x}}$"
      ],
      "text/plain": [
       "Eq(d_y, b_x*c_y*f_y/(b_x*c_y + c_x*f_y - c_y*f_x))"
      ]
     },
     "execution_count": 2,
     "metadata": {},
     "output_type": "execute_result"
    }
   ],
   "source": [
    "# Solve the system of equations to find the intersection point and thus d_x, d_y\n",
    "intersection = solve([eq1, eq2], (x, y))\n",
    "\n",
    "# Display the intersection point\n",
    "d_x = intersection[x]\n",
    "d_y = intersection[y]\n",
    "Eq(d_x_sym, d_x)\n",
    "Eq(d_y_sym, d_y)\n"
   ]
  },
  {
   "cell_type": "code",
   "execution_count": 3,
   "id": "4b4139c2-7beb-44b6-8651-b03bc7c5a264",
   "metadata": {},
   "outputs": [
    {
     "data": {
      "text/latex": [
       "$\\displaystyle y = \\frac{c_{y} \\left(- b_{x} + x\\right)}{- b_{x} + c_{x}}$"
      ],
      "text/plain": [
       "Eq(y, c_y*(-b_x + x)/(-b_x + c_x))"
      ]
     },
     "execution_count": 3,
     "metadata": {},
     "output_type": "execute_result"
    },
    {
     "data": {
      "text/latex": [
       "$\\displaystyle y = \\frac{f_{y} x}{f_{x}}$"
      ],
      "text/plain": [
       "Eq(y, f_y*x/f_x)"
      ]
     },
     "execution_count": 3,
     "metadata": {},
     "output_type": "execute_result"
    }
   ],
   "source": [
    "# First equation: line through (b_x, 0) and (c_x, c_y)\n",
    "slope1 = (c_y - 0) / (c_x - b_x)\n",
    "eq1 = Eq(y, slope1 * (x - b_x))\n",
    "\n",
    "# Second equation: line through (0, 0) and (f_x, f_y)\n",
    "slope2 = f_y / f_x\n",
    "eq2 = Eq(y, slope2 * x)\n",
    "\n",
    "# Display the equations\n",
    "eq1\n",
    "eq2"
   ]
  },
  {
   "cell_type": "code",
   "execution_count": 4,
   "id": "60e117b4-3408-40c3-98bd-986b20e38297",
   "metadata": {},
   "outputs": [
    {
     "data": {
      "text/latex": [
       "$\\displaystyle e_{x} = \\frac{b_{x} c_{y} f_{x}}{b_{x} f_{y} - c_{x} f_{y} + c_{y} f_{x}}$"
      ],
      "text/plain": [
       "Eq(e_x, b_x*c_y*f_x/(b_x*f_y - c_x*f_y + c_y*f_x))"
      ]
     },
     "execution_count": 4,
     "metadata": {},
     "output_type": "execute_result"
    },
    {
     "data": {
      "text/latex": [
       "$\\displaystyle e_{y} = \\frac{b_{x} c_{y} f_{y}}{b_{x} f_{y} - c_{x} f_{y} + c_{y} f_{x}}$"
      ],
      "text/plain": [
       "Eq(e_y, b_x*c_y*f_y/(b_x*f_y - c_x*f_y + c_y*f_x))"
      ]
     },
     "execution_count": 4,
     "metadata": {},
     "output_type": "execute_result"
    }
   ],
   "source": [
    "# Solve the system of equations to find the intersection point\n",
    "intersection = solve([eq1, eq2], (x, y))\n",
    "\n",
    "# Display the intersection point\n",
    "e_x = intersection[x]\n",
    "e_y = intersection[y]\n",
    "Eq(e_x_sym, e_x)\n",
    "Eq(e_y_sym, e_y)\n"
   ]
  },
  {
   "cell_type": "code",
   "execution_count": 24,
   "id": "934c7d7a-d7e8-4c8b-882e-f41eaec9d783",
   "metadata": {},
   "outputs": [],
   "source": [
    "def triangle_area(x1, y1, x2, y2, x3, y3):\n",
    "    \"\"\"\n",
    "    Calculate the area of a triangle given co-ordinates of its vertices\n",
    "    (x1,y1), (x2,y2) and (x3,y3)\n",
    "\n",
    "    This formula gives the signed area, which may be negative if the\n",
    "    vertices are ordered in a clockwise direction, and positive if\n",
    "    they are ordered counterclockwise.\n",
    "    \"\"\"\n",
    "    return simplify( (x1*(y2 - y3) + x2*(y3 - y1) + x3*(y1 - y2)) / 2 )\n"
   ]
  },
  {
   "cell_type": "code",
   "execution_count": 25,
   "id": "91384f40-d342-4653-915d-48ba38d21a97",
   "metadata": {},
   "outputs": [
    {
     "data": {
      "text/latex": [
       "$\\displaystyle 3 = \\frac{b_{x} f_{y} \\left(- c_{x} f_{y} + c_{y} f_{x}\\right)}{2 \\left(b_{x} c_{y} + c_{x} f_{y} - c_{y} f_{x}\\right)}$"
      ],
      "text/plain": [
       "Eq(3, b_x*f_y*(-c_x*f_y + c_y*f_x)/(2*(b_x*c_y + c_x*f_y - c_y*f_x)))"
      ]
     },
     "execution_count": 25,
     "metadata": {},
     "output_type": "execute_result"
    },
    {
     "data": {
      "text/latex": [
       "$\\displaystyle 7 = \\frac{b_{x} f_{y}}{2}$"
      ],
      "text/plain": [
       "Eq(7, b_x*f_y/2)"
      ]
     },
     "execution_count": 25,
     "metadata": {},
     "output_type": "execute_result"
    },
    {
     "data": {
      "text/latex": [
       "$\\displaystyle 7 = \\frac{b_{x} f_{y} \\left(b_{x} c_{y} - b_{x} f_{y} + c_{x} f_{y} - c_{y} f_{x}\\right)}{2 \\left(b_{x} f_{y} - c_{x} f_{y} + c_{y} f_{x}\\right)}$"
      ],
      "text/plain": [
       "Eq(7, b_x*f_y*(b_x*c_y - b_x*f_y + c_x*f_y - c_y*f_x)/(2*(b_x*f_y - c_x*f_y + c_y*f_x)))"
      ]
     },
     "execution_count": 25,
     "metadata": {},
     "output_type": "execute_result"
    },
    {
     "data": {
      "text/latex": [
       "$\\displaystyle 10 = \\frac{b_{x}^{2} c_{y} f_{y}}{2 \\left(b_{x} c_{y} + c_{x} f_{y} - c_{y} f_{x}\\right)}$"
      ],
      "text/plain": [
       "Eq(10, b_x**2*c_y*f_y/(2*(b_x*c_y + c_x*f_y - c_y*f_x)))"
      ]
     },
     "execution_count": 25,
     "metadata": {},
     "output_type": "execute_result"
    },
    {
     "data": {
      "text/latex": [
       "$\\displaystyle 14 = \\frac{b_{x}^{2} c_{y} f_{y}}{2 \\left(b_{x} f_{y} - c_{x} f_{y} + c_{y} f_{x}\\right)}$"
      ],
      "text/plain": [
       "Eq(14, b_x**2*c_y*f_y/(2*(b_x*f_y - c_x*f_y + c_y*f_x)))"
      ]
     },
     "execution_count": 25,
     "metadata": {},
     "output_type": "execute_result"
    }
   ],
   "source": [
    "# Now create the 5 simultaneous equations from the triangle areas\n",
    "# The points must go in counterclockwise to make the areas positive\n",
    "\n",
    "eq1 = Eq(3, triangle_area(0,0, f_x,f_y, d_x, d_y))\n",
    "eq2 = Eq(7, triangle_area(0,0, b_x,0, f_x,f_y))\n",
    "eq3 = Eq(7, triangle_area(b_x,0, e_x,e_y, f_x,f_y))\n",
    "eq4 = Eq(10, triangle_area(0,0, b_x,0, d_x,d_y))\n",
    "eq5 = Eq(14, triangle_area(0,0, b_x,0, e_x,e_y))\n",
    "\n",
    "eq1\n",
    "eq2\n",
    "eq3\n",
    "eq4\n",
    "eq5\n"
   ]
  },
  {
   "cell_type": "code",
   "execution_count": 33,
   "id": "edd7a984-1509-4974-978e-769546602e1b",
   "metadata": {},
   "outputs": [
    {
     "data": {
      "text/plain": [
       "[(14/f_y, 5*f_x - 21/f_y, 5*f_y, f_x, f_y)]"
      ]
     },
     "execution_count": 33,
     "metadata": {},
     "output_type": "execute_result"
    }
   ],
   "source": [
    "# Solve the system of equations\n",
    "solution = solve([eq1, eq2, eq3, eq4, eq5], (b_x, c_x, c_y, f_x, f_y))\n",
    "\n",
    "solution\n",
    "\n",
    "first = solution[0]"
   ]
  },
  {
   "cell_type": "code",
   "execution_count": 37,
   "id": "b98ebc0c-5fda-4c0d-9e14-07f3456b855e",
   "metadata": {},
   "outputs": [
    {
     "data": {
      "text/latex": [
       "$\\displaystyle 35$"
      ],
      "text/plain": [
       "35"
      ]
     },
     "execution_count": 37,
     "metadata": {},
     "output_type": "execute_result"
    }
   ],
   "source": [
    "# The results are parameterised on f_x, f_y\n",
    "# However, magically, they cancel out in the triangle area formula\n",
    "# So the area of ABC is\n",
    "triangle_area(0,0, first[0],0, first[1],first[2])"
   ]
  },
  {
   "cell_type": "markdown",
   "id": "422f9859-6744-4c6b-87d8-6afc878b44b8",
   "metadata": {},
   "source": [
    "So ABC has the area 35 and\n",
    "the quadrilateral CDFE has the area 35-7-7-3 = 18"
   ]
  },
  {
   "cell_type": "code",
   "execution_count": null,
   "id": "fca176bb-58e0-4864-b4ae-2d4019927617",
   "metadata": {},
   "outputs": [],
   "source": []
  }
 ],
 "metadata": {
  "kernelspec": {
   "display_name": "Python 3 (ipykernel)",
   "language": "python",
   "name": "python3"
  },
  "language_info": {
   "codemirror_mode": {
    "name": "ipython",
    "version": 3
   },
   "file_extension": ".py",
   "mimetype": "text/x-python",
   "name": "python",
   "nbconvert_exporter": "python",
   "pygments_lexer": "ipython3",
   "version": "3.11.6"
  }
 },
 "nbformat": 4,
 "nbformat_minor": 5
}
